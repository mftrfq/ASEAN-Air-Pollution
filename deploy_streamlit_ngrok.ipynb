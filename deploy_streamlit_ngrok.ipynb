{
  "nbformat": 4,
  "nbformat_minor": 0,
  "metadata": {
    "colab": {
      "provenance": []
    },
    "kernelspec": {
      "name": "python3",
      "display_name": "Python 3"
    },
    "language_info": {
      "name": "python"
    }
  },
  "cells": [
    {
      "cell_type": "code",
      "source": [
        "!git clone https://github.com/mabyanthorif/ASEAN-Air-Pollution---Capstone-G5-DS-GreatEdu\n"
      ],
      "metadata": {
        "id": "_5kTaX3_hJFb"
      },
      "execution_count": null,
      "outputs": []
    },
    {
      "cell_type": "code",
      "source": [
        "# Step 1: Install the necessary packages\n",
        "!pip install pyngrok\n",
        "\n",
        "!pip install -r \"/content/ASEAN-Air-Pollution---Capstone-G5-DS-GreatEdu/requirements.txt\""
      ],
      "metadata": {
        "id": "L82szt-sgdtK"
      },
      "execution_count": null,
      "outputs": []
    },
    {
      "cell_type": "code",
      "source": [
        "import os\n",
        "from threading import Thread\n",
        "from pyngrok import ngrok"
      ],
      "metadata": {
        "id": "nzEvJsGdgilk"
      },
      "execution_count": null,
      "outputs": []
    },
    {
      "cell_type": "code",
      "source": [
        "# Add your ngrok token here\n",
        "ngrok.set_auth_token('your-token')"
      ],
      "metadata": {
        "id": "kNBFFM2ygj6O"
      },
      "execution_count": null,
      "outputs": []
    },
    {
      "cell_type": "code",
      "source": [
        "def run_streamlit():\n",
        "    # Change the port if 8501 is already in use or if you prefer another port\n",
        "    os.system('streamlit run /content/ASEAN-Air-Pollution---Capstone-G5-DS-GreatEdu/app.py --server.port 8501')"
      ],
      "metadata": {
        "id": "nxP9AZaIgoMb"
      },
      "execution_count": null,
      "outputs": []
    },
    {
      "cell_type": "code",
      "source": [
        "# Start a thread to run the Streamlit app\n",
        "thread = Thread(target=run_streamlit)\n",
        "thread.start()"
      ],
      "metadata": {
        "id": "xr3-st1cgoKX"
      },
      "execution_count": null,
      "outputs": []
    },
    {
      "cell_type": "code",
      "source": [
        "# Open a tunnel to the streamlit port 8501\n",
        "public_url = ngrok.connect(addr='8501', proto='http', bind_tls=True)\n",
        "print('Your Streamlit app is live at:', public_url)"
      ],
      "metadata": {
        "id": "T2mh9OOYgoH9"
      },
      "execution_count": null,
      "outputs": []
    },
    {
      "cell_type": "code",
      "source": [
        "ngrok.kill()"
      ],
      "metadata": {
        "id": "kzspcoX7hiiO"
      },
      "execution_count": null,
      "outputs": []
    },
    {
      "cell_type": "code",
      "source": [],
      "metadata": {
        "id": "OPlNA7RaAIeP"
      },
      "execution_count": null,
      "outputs": []
    }
  ]
}